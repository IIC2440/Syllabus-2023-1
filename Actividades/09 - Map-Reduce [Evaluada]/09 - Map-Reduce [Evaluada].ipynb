{
 "cells": [
  {
   "cell_type": "markdown",
   "id": "4c75c9dd",
   "metadata": {},
   "source": [
    "# Actividad Evaluada 3\n",
    "\n",
    "En esta actividad vamos a evaluar que sepas escribir algoritmos bajo el paradigma de computación \"Map-Reduce\". Primero tendrás que escribir código en PySpark y después explicar ciertos puntos de cómo funciona tu código en un entorno distribuido.\n",
    "\n",
    "## Parte 1 (4 puntos) - Escribiendo procedimientos en PySpark\n",
    "\n",
    "En esta actividad vamos a trabajar con los datos de la actividad de BigQuery. Estos datos son los que representan el caso ficticio de una tienda online que vende frutas. Las tablas disponibilizadas son `Usuarios`, `Frutas` y `Compras`, y las puedes encontrar en el GitHub junto a este archivo. Recordemos que las compras disponibles en los datos son solo para el mes de febrero.\n",
    "\n",
    "Para esta parte de la actividad vas a tener que escribir código en `pyspark` en celdas de código. Vas a tener permitido solamente usar las funciones más básicas de Spark, asociadas a [la API](https://spark.apache.org/docs/latest/api/python/reference/api/pyspark.RDD.html) de los objetos `RDD`. Por lo mismo, **no puedes cargar los datos en objetos de Python y hacer análisis locales**, ya que tu código debería funcionar para un conjunto de datos más grande que está en un sistema de archivos distribuido.\n",
    "\n",
    "### Consultas\n",
    "\n",
    "Tienes que escribir procedimientos en PySpark que respondan las siguientes consultas:\n",
    "\n",
    "1. **(0.5 ptos)** Entrega todas las frutas con un precio unitario mayor o igual a 15.\n",
    "2. **(1 pto)** Entrega cada id de compra, junto con el nombre de la persona que la realizó, junto con la fruta que compró. Puedes pensar en retornar una fila por cada fruta en una compra.\n",
    "3. **(1 pto)** Entrega el el id de cada compra, junto al monto de cada compra.\n",
    "4. **(1.5 ptos)** Para cada día, entrega el id y el monto de la compra más cara."
   ]
  },
  {
   "cell_type": "markdown",
   "id": "d29280b3",
   "metadata": {},
   "source": [
    "## Parte 2 (2 puntos) - Explicando cómo se procesa cada consulta\n",
    "\n",
    "Ahora, pensando en un entorno distribuido donde hay muchos datos, explica cómo se resuelve cada uno de las consultas. En particular, queremos que te enfoques en cómo Spark saca ventaja de contar con varios \"workers\" en un entorno distribuido."
   ]
  },
  {
   "cell_type": "markdown",
   "id": "390f0eca",
   "metadata": {},
   "source": [
    "## Detalles administrativos\n",
    "\n",
    "- El trabajo es individual. Puedes consultar y discutir con tus compañeras y compañeros, pero a la hora de escribir el código, no puedes compartirlo con nadie. Puedes usar recursos como internet y modelos fundacionales de procesamiento de texto, pero nuevamente, no puedes compartir tu código.\n",
    "\n",
    "- La entrega es el viernes 26 de mayo a las 20:00 horas. Vas a tener que entregar el notebook en el buzón habilitado. **Para corregir la tarea vamos a usar Google Colab, así que te recomendamos que pruebes que tu tarea corre en ese entorno**.\n",
    "\n",
    "- Si tienes dudas, aprovéchanos, vamos a estar en la sala para ayudar. Recuerda que la idea en estas actividades es aprender y evaluar al mismo tiempo, ¡está bien si no todo sale a la primera!."
   ]
  }
 ],
 "metadata": {
  "kernelspec": {
   "display_name": "Python 3 (ipykernel)",
   "language": "python",
   "name": "python3"
  },
  "language_info": {
   "codemirror_mode": {
    "name": "ipython",
    "version": 3
   },
   "file_extension": ".py",
   "mimetype": "text/x-python",
   "name": "python",
   "nbconvert_exporter": "python",
   "pygments_lexer": "ipython3",
   "version": "3.9.9"
  }
 },
 "nbformat": 4,
 "nbformat_minor": 5
}
