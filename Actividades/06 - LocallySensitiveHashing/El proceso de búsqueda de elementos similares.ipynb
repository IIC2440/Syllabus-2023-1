{
 "cells": [
  {
   "cell_type": "markdown",
   "id": "0c31f7c6",
   "metadata": {},
   "source": [
    "# El proceso de búsqueda de elementos similares\n",
    "\n",
    "Repasemos todo el proceso de búsqueda de elementos similares, con el objetivo de buscar, de un conjunto de 10 textos de poesías de Pablo Neruda, cuales son los dos más similares. \n",
    "\n",
    "Destacamos las siguientes etapas.\n",
    "1. Shingling. Esto es, transformar el texto a conjuntos. \n",
    "2. Minhashing. Para poder calcular la similitud, computaremos una firma de Minhash para cada uno de los conjuntos, en este caso, cada uno de los shingles de los textos. \n",
    "3. (opcional) Ahora podemos estimar la similitud de jaccard como la proporcion de filas en la firma de minhash que es igual.  \n",
    "4. Para evitar comparar demasiados textos, usamos Locally-Sensitiver Hashing: dividimos la firma de Minhash en b bandas con r filas cada una. \n",
    "5. Solo comparamos aquellos pares en las que las r filas de alguna de las bandas sean iguales. Para esto, ¡volvemos a usar una funcion de hash! "
   ]
  },
  {
   "cell_type": "markdown",
   "id": "a026ec79",
   "metadata": {},
   "source": [
    "## Shingling"
   ]
  },
  {
   "cell_type": "code",
   "execution_count": 23,
   "id": "dd0b3127",
   "metadata": {},
   "outputs": [],
   "source": [
    "### Para almacenar los distintos textos creamos un diccionario. \n",
    "odas = {}\n",
    "\n",
    "### Vamos a subir cada texto indexado por un keyword distinto en este diccionario. \n",
    "### Para hacerlos más legibles, reemplazamos los fin de línea por un espacio. \n",
    "\n",
    "with open(\"oda_alegria.txt\", \"r\") as file:\n",
    "    text = file.read().replace('\\n', ' ')\n",
    "odas['alegria']=text\n",
    "\n",
    "with open(\"oda_caldillo.txt\", \"r\") as file:\n",
    "    text = file.read().replace('\\n', ' ')\n",
    "odas['caldillo']=text\n",
    "\n",
    "with open(\"oda_feliz.txt\", \"r\") as file:\n",
    "    text = file.read().replace('\\n', ' ')\n",
    "odas['feliz']=text\n",
    "\n",
    "with open(\"oda_libro.txt\", \"r\") as file:\n",
    "    text = file.read().replace('\\n', ' ')\n",
    "odas['libro']=text\n",
    "\n",
    "with open(\"oda_mar.txt\", \"r\") as file:\n",
    "    text = file.read().replace('\\n', ' ')\n",
    "odas['mar']=text\n",
    "\n",
    "with open(\"oda_poetas.txt\", \"r\") as file:\n",
    "    text = file.read().replace('\\n', ' ')\n",
    "odas['poetas']=text\n",
    "\n",
    "with open(\"oda_tiempo.txt\", \"r\") as file:\n",
    "    text = file.read().replace('\\n', ' ')\n",
    "odas['tiempo']=text\n",
    "\n",
    "with open(\"oda_tristeza.txt\", \"r\") as file:\n",
    "    text = file.read().replace('\\n', ' ')\n",
    "odas['tristeza']=text\n",
    "\n",
    "\n",
    "with open(\"oda_valparaiso.txt\", \"r\") as file:\n",
    "    text = file.read().replace('\\n', ' ')\n",
    "odas['valparaiso']=text\n",
    "\n",
    "\n",
    "with open(\"oda_vino.txt\", \"r\") as file:\n",
    "    text = file.read().replace('\\n', ' ')\n",
    "odas['vino']=text\n",
    "\n"
   ]
  },
  {
   "cell_type": "code",
   "execution_count": 24,
   "id": "9aa17f24",
   "metadata": {},
   "outputs": [],
   "source": [
    "odas_shingles = {}\n",
    "k = 3\n",
    "\n",
    "### iteramos sobre todas las odas\n",
    "for (name,text) in odas.items(): \n",
    "  \n",
    "    odas_shingles[name] = set()\n",
    "    \n",
    "    for i in range(len(text) - k-1):\n",
    "        shingle = text[i:i+k]\n",
    "        odas_shingles[name].add(shingle)\n",
    "        "
   ]
  },
  {
   "cell_type": "markdown",
   "id": "a22dd2fa",
   "metadata": {},
   "source": [
    "## Jaccard Similarity\n"
   ]
  },
  {
   "cell_type": "code",
   "execution_count": 5,
   "id": "6a720cd2",
   "metadata": {},
   "outputs": [],
   "source": [
    "### Lo primero es una funcion que calcula la similitud de Jaccard entre dos conjuntos. \n",
    "### Recordemos que se define como la proporcion entre el tamaño de la intersección de los conjuntos, \n",
    "### dividido por el tamaño de su unión. \n",
    "\n",
    "def jaccard_similarity(set1, set2):\n",
    "    # Computa la similitud de Jaccard entre dos sets\n",
    "    intersection = set1.intersection(set2)\n",
    "    union = set1.union(set2)\n",
    "    return len(intersection) / len(union)"
   ]
  },
  {
   "cell_type": "markdown",
   "id": "16750ea1",
   "metadata": {},
   "source": [
    "## Hashing"
   ]
  },
  {
   "cell_type": "code",
   "execution_count": 6,
   "id": "afdaa794",
   "metadata": {},
   "outputs": [],
   "source": [
    "### Para que esta funcion de hash tenga buenas propiedades aleatorias, \n",
    "### - p debe ser un primo mayor que n, \n",
    "### - a y b deben estar entre 1 y p-1 (e idealmente ser escogidas al azar).\n",
    "\n",
    "def crear_hash(a, b, p, n):\n",
    "    def f(x):\n",
    "        return ((a * x + b) % p) % n\n",
    "    return f"
   ]
  },
  {
   "cell_type": "markdown",
   "id": "3d63e211",
   "metadata": {},
   "source": [
    "## Minhashing\n",
    "\n",
    "Para calcular las firmas de minhash, vamos a usar (en este caso) veinte funciones de hash, las que intuitivamente jugarán el rol de una permutación de la matriz de elementos. "
   ]
  },
  {
   "cell_type": "code",
   "execution_count": 4,
   "id": "2df08cee",
   "metadata": {},
   "outputs": [
    {
     "name": "stdout",
     "output_type": "stream",
     "text": [
      "2349\n"
     ]
    }
   ],
   "source": [
    "### Contamos la cantidad de elementos totales que tenemos, \n",
    "### como el tamaño de la union de todos los conjuntos de shingles. \n",
    "\n",
    "un = set()\n",
    "for (name,shingle) in odas_shingles.items():\n",
    "        un = un.union(shingle)\n",
    "        \n",
    "print(len(un))"
   ]
  },
  {
   "cell_type": "markdown",
   "id": "88b2da5d",
   "metadata": {},
   "source": [
    "La matriz de elementos tiene, entonces, 2349 filas. Las permutaciones serán funciones que transformen números entre \n",
    "0 y 2348 a numeros entre 0 y 2348. Definimos 50 de estas funciones. No son perfectas, pero van a ser suficientes para nuestro propósito. "
   ]
  },
  {
   "cell_type": "code",
   "execution_count": 59,
   "id": "46aefe02",
   "metadata": {},
   "outputs": [],
   "source": [
    "import random\n",
    "h = []\n",
    "n = 2349\n",
    "p = 20063\n",
    "num_hash = 50\n",
    "for i in range(num_hash):\n",
    "    a = random.randint(1,p-1)\n",
    "    b = random.randint(1,p-1)\n",
    "    h.append(crear_hash(a,b,p,n))\n"
   ]
  },
  {
   "cell_type": "markdown",
   "id": "e6853f58",
   "metadata": {},
   "source": [
    "### Calculando la firma de minhash de las odas\n",
    "\n",
    "Como ya sabemos, la matriz de elementos - conjuntos tiene 2349 filas, y 10 columnas, una por cada oda. Vamos a reducir esto a una matriz de 20 filas y 10 columnas: para cada columna, representando una oda, entregamos la firma de minhash correspondiente a la función de hash h[i]."
   ]
  },
  {
   "cell_type": "code",
   "execution_count": 60,
   "id": "a701e36c",
   "metadata": {},
   "outputs": [],
   "source": [
    "### Creamos la matriz FH con las filas y columnas correspondientes. \n",
    "### Inicialmente la matriz tiene solo valores 3000, cualquier valor mas grande \n",
    "### que la cantidad de elementos sirve. \n",
    "\n",
    "n = len(odas_shingles)\n",
    "FH = [[3000 for j in range(n)] for i in range(num_hash)]\n",
    "\n",
    "### Tomamos la union de todos los elementos en el conjunto llamado un, \n",
    "### y para iterar sobre estos, lo transformamos a una lista ordenada\n",
    "\n",
    "for (name,shingle) in odas_shingles.items():\n",
    "    un = un.union(shingle)\n",
    "    sorted_union = sorted(un)\n",
    "\n",
    "### con esto podemos usar names[i] para conseguir el nombre de la i-esima oda. \n",
    "names = list(odas_shingles.keys())\n",
    "\n",
    "             ### iteramos cada elemento\n",
    "for e in range(0,len(sorted_union)): \n",
    "    ### iteramos cada columna, correspondiente a la cantidad de textos (odas en nuestro caso)  \n",
    "    for i in range(0,n):\n",
    "        ### si el elemento e no está en el texto i, no hacemos nada\n",
    "        if sorted_union[e] not in odas_shingles[names[i]]:\n",
    "            pass\n",
    "        ### si el elemento si está, computamos los valores de h(e) y \n",
    "        else:\n",
    "            for j in range(0,num_hash):\n",
    "                FH[j][i] = min(FH[j][i],h[j](e))\n"
   ]
  },
  {
   "cell_type": "code",
   "execution_count": 53,
   "id": "ab60852b",
   "metadata": {},
   "outputs": [
    {
     "name": "stdout",
     "output_type": "stream",
     "text": [
      "[2, 12, 9, 10, 2, 1, 3, 2, 0, 5]\n",
      "[0, 3, 3, 7, 1, 0, 3, 3, 0, 3]\n",
      "[1, 7, 4, 0, 7, 4, 1, 16, 1, 1]\n",
      "[0, 1, 0, 0, 1, 6, 13, 2, 0, 2]\n",
      "[0, 2, 0, 2, 1, 2, 0, 2, 2, 4]\n",
      "[1, 1, 4, 1, 4, 1, 1, 1, 1, 4]\n",
      "[0, 0, 6, 0, 0, 0, 0, 7, 4, 0]\n",
      "[1, 5, 7, 5, 3, 5, 1, 5, 3, 7]\n",
      "[5, 7, 3, 10, 0, 1, 4, 4, 5, 4]\n",
      "[0, 0, 0, 0, 0, 0, 0, 0, 0, 0]\n",
      "[0, 0, 0, 2, 0, 0, 0, 4, 0, 0]\n",
      "[0, 0, 9, 0, 0, 3, 0, 1, 0, 0]\n",
      "[3, 3, 15, 11, 3, 7, 0, 11, 15, 3]\n",
      "[1, 1, 1, 1, 1, 1, 1, 21, 3, 1]\n",
      "[1, 1, 3, 1, 1, 1, 4, 1, 1, 7]\n",
      "[6, 0, 14, 0, 0, 0, 6, 6, 0, 6]\n",
      "[6, 10, 9, 2, 8, 1, 12, 10, 0, 11]\n",
      "[1, 1, 1, 3, 1, 2, 6, 1, 1, 6]\n",
      "[2, 1, 3, 1, 1, 1, 3, 5, 0, 0]\n",
      "[4, 2, 2, 2, 2, 2, 4, 4, 0, 2]\n",
      "[1, 5, 5, 1, 0, 1, 1, 5, 1, 1]\n",
      "[0, 0, 1, 0, 0, 0, 1, 1, 0, 0]\n",
      "[5, 5, 5, 5, 4, 4, 5, 5, 5, 5]\n",
      "[1, 1, 1, 0, 1, 1, 1, 4, 1, 6]\n",
      "[1, 0, 3, 1, 7, 4, 13, 12, 0, 4]\n",
      "[2, 2, 2, 2, 2, 2, 2, 2, 2, 2]\n",
      "[0, 0, 0, 0, 0, 0, 0, 0, 0, 0]\n",
      "[2, 1, 1, 1, 0, 1, 1, 1, 2, 1]\n",
      "[1, 6, 3, 0, 6, 2, 4, 2, 2, 6]\n",
      "[7, 7, 7, 0, 1, 1, 7, 7, 7, 7]\n",
      "[1, 3, 6, 6, 1, 0, 0, 0, 1, 3]\n",
      "[1, 3, 4, 1, 3, 1, 3, 6, 1, 3]\n",
      "[7, 7, 2, 7, 2, 2, 13, 7, 7, 7]\n",
      "[3, 3, 8, 8, 0, 1, 3, 1, 0, 3]\n",
      "[1, 11, 1, 1, 2, 1, 1, 2, 2, 4]\n",
      "[2, 2, 0, 1, 2, 2, 2, 13, 1, 2]\n",
      "[1, 1, 2, 3, 1, 0, 2, 1, 1, 11]\n",
      "[2, 4, 8, 5, 2, 3, 12, 3, 2, 7]\n",
      "[0, 0, 4, 2, 0, 0, 8, 3, 3, 0]\n",
      "[1, 0, 1, 1, 0, 1, 1, 1, 1, 1]\n",
      "[4, 0, 5, 16, 4, 0, 15, 1, 1, 4]\n",
      "[2, 2, 4, 4, 1, 0, 15, 6, 4, 4]\n",
      "[9, 0, 9, 14, 3, 7, 3, 22, 2, 0]\n",
      "[3, 15, 15, 3, 3, 2, 1, 2, 0, 3]\n",
      "[0, 0, 0, 0, 0, 0, 0, 0, 0, 0]\n",
      "[0, 0, 0, 0, 3, 0, 2, 0, 3, 1]\n",
      "[0, 7, 6, 0, 0, 0, 13, 7, 0, 0]\n",
      "[1, 0, 2, 0, 2, 1, 4, 11, 0, 1]\n",
      "[0, 8, 23, 16, 0, 1, 5, 11, 4, 11]\n",
      "[2, 0, 1, 1, 2, 1, 2, 1, 0, 6]\n"
     ]
    }
   ],
   "source": [
    "### Ahora imprimimos la matriz\n",
    "for row in FH:\n",
    "    print(row)  "
   ]
  },
  {
   "cell_type": "markdown",
   "id": "2c92427a",
   "metadata": {},
   "source": [
    "Ahora podemos pensar en que cada oda está representada por su firma de MinHash, que es \n",
    "la columna correspondiente, y podemos usar esa firma para revisar si acaso dos textos son similares. Así, si dos textos tienen la misma firma de minhash, entonces es probable que sean muy parecidos. \n",
    "\n",
    "\n",
    "Por ejemplo, estas son las columnas de las odas 5 y 9, correspondientes a los índices 4 y 8 de la matriz, que identificamos como similares antes: "
   ]
  },
  {
   "cell_type": "code",
   "execution_count": 62,
   "id": "146ef64d",
   "metadata": {},
   "outputs": [
    {
     "name": "stdout",
     "output_type": "stream",
     "text": [
      " 4     8 \n",
      "---------\n",
      "|0|   |0|\n",
      "|3|   |0|\n",
      "|0|   |1|\n",
      "|1|   |1|\n",
      "|3|   |1|\n",
      "|0|   |4|\n",
      "|0|   |0|\n",
      "|0|   |0|\n",
      "|3|   |4|\n",
      "|0|   |0|\n",
      "|0|   |3|\n",
      "|0|   |1|\n",
      "|3|   |0|\n",
      "|0|   |3|\n",
      "|0|   |1|\n",
      "|1|   |1|\n",
      "|2|   |1|\n",
      "|4|   |6|\n",
      "|0|   |1|\n",
      "|2|   |0|\n",
      "|0|   |0|\n",
      "|0|   |0|\n",
      "|1|   |6|\n",
      "|2|   |1|\n",
      "|2|   |6|\n",
      "|1|   |4|\n",
      "|6|   |12|\n",
      "|0|   |0|\n",
      "|2|   |7|\n",
      "|3|   |6|\n",
      "|0|   |7|\n",
      "|1|   |2|\n",
      "|4|   |4|\n",
      "|0|   |0|\n",
      "|0|   |8|\n",
      "|1|   |0|\n",
      "|3|   |0|\n",
      "|3|   |3|\n",
      "|0|   |0|\n",
      "|5|   |0|\n",
      "|2|   |2|\n",
      "|1|   |1|\n",
      "|8|   |5|\n",
      "|1|   |1|\n",
      "|0|   |1|\n",
      "|1|   |0|\n",
      "|0|   |0|\n",
      "|2|   |2|\n",
      "|4|   |0|\n",
      "|0|   |1|\n",
      "proporcion de la fila: 0.36\n"
     ]
    }
   ],
   "source": [
    "cuenta = 0\n",
    "print(' 4     8 ')\n",
    "print('---------')  \n",
    "for row in FH:\n",
    "    if row[4]==row[8]:\n",
    "        cuenta += 1\n",
    "    print('|'+str(row[4])+'|   |'+str(row[8])+'|')  \n",
    "    \n",
    "print('proporcion de la fila: '+str(cuenta/num_hash))\n"
   ]
  },
  {
   "cell_type": "markdown",
   "id": "759861f9",
   "metadata": {},
   "source": [
    "Si bien hay algunas coincidencias, la firma no es igual. Esto es consistente con la similitud de Jaccard que vimos: si bien es la mas alta, no es un valor muy cercano a 1, si no que está cerca de 0.4. Esto coincide con la proporcion de hashes que son iguales en nuestro caso.  "
   ]
  },
  {
   "cell_type": "code",
   "execution_count": null,
   "id": "96d0e944",
   "metadata": {},
   "outputs": [],
   "source": []
  }
 ],
 "metadata": {
  "kernelspec": {
   "display_name": "Python 3 (ipykernel)",
   "language": "python",
   "name": "python3"
  },
  "language_info": {
   "codemirror_mode": {
    "name": "ipython",
    "version": 3
   },
   "file_extension": ".py",
   "mimetype": "text/x-python",
   "name": "python",
   "nbconvert_exporter": "python",
   "pygments_lexer": "ipython3",
   "version": "3.10.7"
  }
 },
 "nbformat": 4,
 "nbformat_minor": 5
}
