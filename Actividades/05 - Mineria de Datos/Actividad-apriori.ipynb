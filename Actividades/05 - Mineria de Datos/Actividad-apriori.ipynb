{
 "cells": [
  {
   "cell_type": "markdown",
   "id": "b15bfe47",
   "metadata": {},
   "source": [
    "# Elementos Frecuentes, reglas de asociación, algoritmo apriori \n",
    "\n",
    "Vamos a calcular reglas de asociación usando el paquete **efficient-apriori**, cuya documentación se encuentra en https://pypi.org/project/efficient-apriori/. Con este paquete, vamos a procesar ejemplos y discutir los conceptos vistos en clases"
   ]
  },
  {
   "cell_type": "markdown",
   "id": "d92a13a5",
   "metadata": {},
   "source": [
    "## Instalación, usos básicos"
   ]
  },
  {
   "cell_type": "code",
   "execution_count": null,
   "id": "59c05395",
   "metadata": {},
   "outputs": [],
   "source": [
    "### Usar pip para cargar el paquete en nuestro ambiente actual - omitir si el paquete ya está instalado!\n",
    "import sys\n",
    "!{sys.executable} -m pip install efficient-apriori\n"
   ]
  },
  {
   "cell_type": "code",
   "execution_count": 1,
   "id": "4eb94cda",
   "metadata": {},
   "outputs": [],
   "source": [
    "### Un primer uso (extraído de la documentación oficial): \n",
    "\n",
    "from efficient_apriori import apriori \n",
    "\n",
    "### Cargamos las transacciones como una lista, con elementos. En este caso son tres compras.  \n",
    "\n",
    "transactions = [('eggs', 'bacon', 'soup'),('eggs', 'bacon', 'apple'),('soup', 'bacon', 'banana')]\n",
    "\n",
    "### Y corremos nuestro modelo. Definimos el soporte como 0.6, y la confianza en 1. \n",
    "\n",
    "itemsets, rules = apriori(transactions, min_support=0.6, min_confidence=1) \n",
    "\n",
    "\n"
   ]
  },
  {
   "cell_type": "code",
   "execution_count": 2,
   "id": "6fd0d016",
   "metadata": {},
   "outputs": [
    {
     "name": "stdout",
     "output_type": "stream",
     "text": [
      "[{eggs} -> {bacon}, {soup} -> {bacon}]\n"
     ]
    }
   ],
   "source": [
    "### Imprimimos las reglas. \n",
    "\n",
    "### En este caso, como la confianza es 1, tomamos solo las reglas que siempre se cumplen en todas las canastas \n",
    "### donde aparece el lado izquierdo.\n",
    "\n",
    "### El soporte de 0.66 requiere que al menos 2 de 3 de las canastas soporten esta regla, es decir, que tengan \n",
    "### los elementos de ambos lados de la regla.\n",
    "print(rules) \n"
   ]
  },
  {
   "cell_type": "code",
   "execution_count": 3,
   "id": "63bcf656",
   "metadata": {},
   "outputs": [
    {
     "name": "stdout",
     "output_type": "stream",
     "text": [
      "{1: {('eggs',): 2, ('bacon',): 3, ('soup',): 2}, 2: {('bacon', 'eggs'): 2, ('bacon', 'soup'): 2}}\n"
     ]
    }
   ],
   "source": [
    "### Podemos imprimir también el conteo de todos los conjuntos de elementos que tienen soporte sobre el \n",
    "### minimo que definimos, en este caso 0.6\n",
    "\n",
    "print(itemsets) "
   ]
  },
  {
   "cell_type": "code",
   "execution_count": 12,
   "id": "73cf3b86",
   "metadata": {},
   "outputs": [
    {
     "data": {
      "text/plain": [
       "0.0"
      ]
     },
     "execution_count": 12,
     "metadata": {},
     "output_type": "execute_result"
    }
   ],
   "source": [
    "### Y con esto calculamos el interes de ciertas reglas. Por ejemplo, el interes de {eggs} -> {bacon} es \n",
    "(itemsets[2][('bacon', 'eggs')]/itemsets[1][('eggs',)]) - (itemsets[1][('bacon',)]/3)\n",
    "\n",
    "# Lo que nos dice que en realidad esta regla no es interesante. Si lo pensamos, es obvia, siempre hay bacon! "
   ]
  },
  {
   "cell_type": "code",
   "execution_count": 47,
   "id": "805f862b",
   "metadata": {},
   "outputs": [
    {
     "name": "stdout",
     "output_type": "stream",
     "text": [
      "[{soup} -> {bacon}, {bacon} -> {soup}, {soup} -> {banana}, {banana} -> {soup}]\n"
     ]
    }
   ],
   "source": [
    "### Veamos que pasa al cambiar un poco las canastas, bajamos tb el soporte y la confianza\n",
    "\n",
    "tr = [('eggs', 'bacon', 'soup'),('eggs', 'pear', 'apple'),('soup', 'bacon', 'banana'),('apple', 'banana','soup')]\n",
    "\n",
    "itemsets, rules = apriori(tr, min_support=0.5, min_confidence=0.6) \n",
    "print(rules) \n",
    "\n"
   ]
  },
  {
   "cell_type": "code",
   "execution_count": 48,
   "id": "49fe14ff",
   "metadata": {},
   "outputs": [],
   "source": [
    "### ¿Cual regla es mas interesante, {soup} -> {bacon} o {bacon} -> {soup}? ¿Puedes ver por qué?\n"
   ]
  },
  {
   "cell_type": "markdown",
   "id": "bc620d59",
   "metadata": {},
   "source": [
    "## Desde csv a apriori\n",
    "\n",
    "Vamos a cargar un conjunto de datos almacenados en un archivo *canastas.csv*. Los cargaremos a una lista llamada datos, que tiene una tupla con los elementos por lista. "
   ]
  },
  {
   "cell_type": "code",
   "execution_count": 2,
   "id": "bf883ac7",
   "metadata": {},
   "outputs": [],
   "source": [
    "import csv\n",
    "\n",
    "with open('canastas.csv', 'r', newline='', encoding='utf-8') as csvfile:\n",
    "    reader = csv.reader(csvfile)\n",
    "    datos = [tuple(row) for row in reader]\n",
    "    \n"
   ]
  },
  {
   "cell_type": "code",
   "execution_count": 3,
   "id": "1ac5b799",
   "metadata": {},
   "outputs": [
    {
     "data": {
      "text/plain": [
       "1001"
      ]
     },
     "execution_count": 3,
     "metadata": {},
     "output_type": "execute_result"
    }
   ],
   "source": [
    "len(datos)"
   ]
  },
  {
   "cell_type": "code",
   "execution_count": 17,
   "id": "4a4a5af6",
   "metadata": {},
   "outputs": [
    {
     "name": "stdout",
     "output_type": "stream",
     "text": [
      "('salsa barbacoa', 'uvas', 'salsa alioli', 'sal', 'judías verdes', 'moras', 'manzanas', 'guisantes', 'orégano', 'maíz', 'peras', 'arroz', 'aguacates', 'bacalao', 'espárragos')\n"
     ]
    }
   ],
   "source": [
    "print(datos[0])"
   ]
  },
  {
   "cell_type": "markdown",
   "id": "ea8149e1",
   "metadata": {},
   "source": [
    "Ahora usamos estos datos en el código que teníamos antes. "
   ]
  },
  {
   "cell_type": "code",
   "execution_count": 18,
   "id": "554e9509",
   "metadata": {},
   "outputs": [],
   "source": [
    "transactions = datos\n",
    "itemsets, rules = apriori(transactions, min_support=0.66, min_confidence=1) \n"
   ]
  },
  {
   "cell_type": "code",
   "execution_count": 19,
   "id": "23f5649e",
   "metadata": {},
   "outputs": [
    {
     "name": "stdout",
     "output_type": "stream",
     "text": [
      "[]\n"
     ]
    }
   ],
   "source": [
    "print(rules)"
   ]
  },
  {
   "cell_type": "markdown",
   "id": "379008e7",
   "metadata": {},
   "source": [
    "¿Qué pasó? Las listas involucran muchos elementos, y ya es muy poco probable que una regla tenga confianza de 1. \n",
    "\n",
    "Recordemos: El soporte es el porcentaje de las canastas donde si aplica esta regla. Un umbral de soporte más alto filtra más, y por lo tanto se generan menos reglas. \n",
    "\n",
    "La confianza es la proporcion de canastas que tienen el lado izquierdo de la regla, y el lado derecho, contra las canastas que solo tienen el lado izquierdo. Un umbral de confianza más alto filtra más, y por lo tanto se generan menos reglas. \n",
    "\n",
    "En el retail es usual ver un soporte de 0.01 a 0.05 (osea, buscar reglas que se apliquen en un 1%-5% de las canastas), y una confianza idealmente mayor a 0.5. Pero estos valores siempre van a depender de la naturaleza de los datos. \n",
    "\n",
    "Veamos qué pasa si ahora bajamos el soporte a 0.01 y la confianza a 0.3"
   ]
  },
  {
   "cell_type": "code",
   "execution_count": 22,
   "id": "e27604ef",
   "metadata": {},
   "outputs": [
    {
     "name": "stdout",
     "output_type": "stream",
     "text": [
      "[{tomates} -> {ajo}]\n"
     ]
    }
   ],
   "source": [
    "transactions = datos\n",
    "itemsets, rules = apriori(transactions, min_support=0.01, min_confidence=0.3) \n",
    "\n",
    "print(rules)"
   ]
  },
  {
   "cell_type": "markdown",
   "id": "b861ae2f",
   "metadata": {},
   "source": [
    "Parece ser que tomates y ajo van bien juntos! \n",
    "Esta regla nos dice que\n",
    "- (por el soporte mínimo): al menos el 1% de las compras incluyen tomates y ajos \n",
    "- (por la confianza mínima): al menos un 30% de las compras que incluyen tomates incluyen también ajos. "
   ]
  },
  {
   "cell_type": "markdown",
   "id": "a7d2feb8",
   "metadata": {},
   "source": [
    "Puedes jugar con los umbrales de soporte y confianza, y descubrir nuevas reglas de asociación? Lógiamente, este descubrimiento tiene que involucrar un menor umbral de soporte, o una menor confianza, o ambas. "
   ]
  },
  {
   "cell_type": "markdown",
   "id": "67748ec6",
   "metadata": {},
   "source": [
    "## Actividad\n",
    "\n",
    "Implementa, por sobre la librería para apriori, alguno de los otros dos algoritmos que vimos en clases y que construyen sobre la idea de trabajar con samples o dividir todas las canastas en muchos pedazos.  "
   ]
  },
  {
   "cell_type": "code",
   "execution_count": null,
   "id": "f209d63e",
   "metadata": {},
   "outputs": [],
   "source": []
  }
 ],
 "metadata": {
  "kernelspec": {
   "display_name": "Python 3 (ipykernel)",
   "language": "python",
   "name": "python3"
  },
  "language_info": {
   "codemirror_mode": {
    "name": "ipython",
    "version": 3
   },
   "file_extension": ".py",
   "mimetype": "text/x-python",
   "name": "python",
   "nbconvert_exporter": "python",
   "pygments_lexer": "ipython3",
   "version": "3.10.7"
  }
 },
 "nbformat": 4,
 "nbformat_minor": 5
}
