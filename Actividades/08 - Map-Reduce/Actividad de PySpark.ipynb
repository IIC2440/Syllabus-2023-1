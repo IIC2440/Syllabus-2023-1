{
  "nbformat": 4,
  "nbformat_minor": 0,
  "metadata": {
    "colab": {
      "provenance": []
    },
    "kernelspec": {
      "name": "python3",
      "display_name": "Python 3"
    },
    "language_info": {
      "name": "python"
    }
  },
  "cells": [
    {
      "cell_type": "markdown",
      "source": [
        "# Actividad PySpark\n",
        "\n",
        "Junto a este _notebook_ vas a encontrar los archivos:\n",
        "\n",
        "- `personas.csv`: sus atributos son id persona, nombre, dirección y edad.\n",
        "- `mascotas.csv`: sus atributos id mascota, nombre, tipo e id del dueño.\n",
        "\n",
        "La idea de esta actividad es hacer consultas estilo SQL pero usando las funciones de RDD de `pyspark`. Es decir, deberías usar solo las funciones de [este listado](https://spark.apache.org/docs/latest/api/python/reference/api/pyspark.RDD.html).\n",
        "\n",
        "## Consultas\n",
        "\n",
        "Escriba programas con `pyspark` para computar las siguientes consultas.\n",
        "\n",
        "- Entrega todas las personas. Luego entrega todas las personas de más de 40 años.\n",
        "- Cuenta las mascotas por cada tipo.\n",
        "- Para cada mascota, entrega su id, su nombre junto al id y nombre de su dueño.\n",
        "- Para cada persona menor a 40 años, entrega su id, nombre junto al id y nombre de todas sus mascotas.\n",
        "- Entrega cada persona junto al número de mascotas que tiene."
      ],
      "metadata": {
        "id": "hDxzn9m_P6Zn"
      }
    },
    {
      "cell_type": "code",
      "execution_count": null,
      "metadata": {
        "id": "KV_FSE3mHWry"
      },
      "outputs": [],
      "source": []
    }
  ]
}