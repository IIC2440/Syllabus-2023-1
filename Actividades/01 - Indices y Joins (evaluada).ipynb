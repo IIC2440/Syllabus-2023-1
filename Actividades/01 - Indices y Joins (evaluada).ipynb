{
 "cells": [
  {
   "cell_type": "markdown",
   "metadata": {},
   "source": [
    "# Actividad Evaluada 1"
   ]
  },
  {
   "cell_type": "markdown",
   "metadata": {},
   "source": [
    "## Administrativos"
   ]
  },
  {
   "cell_type": "markdown",
   "metadata": {},
   "source": [
    "- El trabajo es individual. Puedes consultar y discutir con tus compañeras y compañeros, pero a la hora de escribir el código, no puedes compartirlo con nadie. Puedes usar recursos como internet y modelos fundacionales de procesamiento de texto, pero nuevamente, no puedes compartir tu código. \n",
    "\n",
    "- La entrega es el Viernes 24 a las 20:00 horas. El úncio archivo a entregar es una copia de tu notebook, que deberás subir en canvas antes de ese día/hora. \n",
    "\n",
    "- Si tienes dudas, aprovéchanos, vamos a estar en la sala ayudandote. Recuerda que la gracia en estas actividades es aprender y evaluar al mismo tiempo, ¡está bien si no todo sale a la primera!"
   ]
  },
  {
   "cell_type": "markdown",
   "metadata": {},
   "source": [
    "## Enunciado"
   ]
  },
  {
   "cell_type": "markdown",
   "metadata": {},
   "source": [
    "#### DATOS\n",
    "\n",
    "Trabajaremos con una tabla de **Personas(id,nombre,area)**, que almacena el identificador, nombre y el área de donde trabajan personas en una organización, otra de **Proyectos(id,nombre,timestamp)**, con el id, el nombre de los proyectos en esa organización, y un timestamp indicando un orden en los meses (desde que partió la organización); y una relación entre ambas entidades llamada **Persona_Proyecto(id_persona,id_proyecto)** que relaciona las personas con los proyectos en que trabajan. Cabe destacar que la relación entre estas es de 1 a n: cada persona participa en a lo más un proyecto, y los proyectos pueden tener a muchas personas trabajando en ellos. \n",
    "\n",
    "Acá va un ejemplo de como se podrían ver los datos:"
   ]
  },
  {
   "cell_type": "code",
   "execution_count": null,
   "metadata": {},
   "outputs": [],
   "source": [
    "Personas = [\n",
    "    (1, \"Persona 1\", \"TI\"),\n",
    "    (5, \"Persona 5\", \"Gerencia\"),\n",
    "    (2, \"Persona 2\", \"Gerencia\"),\n",
    "    (3, \"Persona 3\", \"TI\"),\n",
    "    (10, \"Persona 10\", \"RRHH\"),\n",
    "    (4, \"Persona 4\", \"Finanzas\"),\n",
    "    (6, \"Persona 6\", \"Finanzas\"),\n",
    "    (15, \"Persona 15\", \"TI\"),\n",
    "    (7, \"Persona 7\", \"Gerencia\"),\n",
    "    (22, \"Persona 22\", \"Gerencia\"),\n",
    "    (31, \"Persona 31\", \"TI\"),\n",
    "    (11, \"Persona 11\", \"RRHH\"),\n",
    "    (9, \"Persona 9\", \"Finanzas\"),\n",
    "    (33, \"Persona 33\", \"TI\"),\n",
    "]\n",
    "\n",
    "Proyectos = [\n",
    "    (1, \"Proyecto 1\", 1),\n",
    "    (2, \"Proyecto 2\", 10),\n",
    "    (3, \"Proyecto 3\", 8),\n",
    "    (4, \"Proyecto 4\", 3),\n",
    "    (5, \"Proyecto 5\", 7),\n",
    "]\n",
    "\n",
    "# Formato (id_persona, id_proyecto)\n",
    "Persona_Proyecto = [\n",
    "    (1, 1),\n",
    "    (2, 3),\n",
    "    (10, 1),\n",
    "    (5, 2),\n",
    "    (6, 2),\n",
    "    (33, 2),\n",
    "    (15, 3),\n",
    "]"
   ]
  },
  {
   "cell_type": "markdown",
   "metadata": {},
   "source": [
    "#### Manejo de datos \n",
    "\n",
    "Vamos a construir una clase Tabla, para acceder a los datos de arriba. El acceso es mediante un iterador, que implementa *iter()* y *next()*, y mediante *index_access(id_indice,element)*, que permite acceder a elementos como si fuera un hash-index. \n"
   ]
  },
  {
   "cell_type": "code",
   "execution_count": null,
   "metadata": {},
   "outputs": [],
   "source": [
    "class Tabla:\n",
    "    def __init__(self, datos):\n",
    "        self.datos = datos\n",
    "        self.indexes = []\n",
    "\n",
    "    def __iter__(self):\n",
    "        self.current_iter = 0\n",
    "        return self\n",
    "\n",
    "    def __next__(self):\n",
    "        if self.current_iter < len(self.datos):\n",
    "            valor = self.datos[self.current_iter]\n",
    "            self.current_iter += 1\n",
    "            return valor\n",
    "        else:\n",
    "            raise StopIteration\n",
    "\n",
    "    def create_keyed_index(self, position):\n",
    "        index = {}\n",
    "        for tup in self.datos:\n",
    "            index[tup[position]] = tup\n",
    "        self.indexes.append(index)\n",
    "        return len(self.indexes) - 1\n",
    "\n",
    "    def index_access(self, id_index, element):\n",
    "        return self.indexes[id_index][element]"
   ]
  },
  {
   "cell_type": "code",
   "execution_count": null,
   "metadata": {},
   "outputs": [],
   "source": [
    "## Ejemplo de como iterar una Tabla\n",
    "\n",
    "Tpersonas = Tabla(Personas)\n",
    "iterador = iter(Tpersonas)\n",
    "for x in iterador:\n",
    "    print(x)"
   ]
  },
  {
   "cell_type": "code",
   "execution_count": null,
   "metadata": {},
   "outputs": [],
   "source": [
    "## Crear un índice en el atributo id de Persona (posicion 0), y luego usarlo para encontrar la tupla con id 3\n",
    "\n",
    "Tpersonas.create_keyed_index(0)\n",
    "Tpersonas.index_access(0, 3)"
   ]
  },
  {
   "cell_type": "markdown",
   "metadata": {},
   "source": [
    "# Ejercicios"
   ]
  },
  {
   "cell_type": "markdown",
   "metadata": {},
   "source": [
    "### EJERCICIO 1. \n",
    "\n",
    "- (a) Crea una instancia de la clase \"Tabla\" para Personas, Proyectos y Persona Proyecto. \n",
    "- (b) Crea los índices necesarios para contestar la siguiente consulta en un tiempo acotado por la cantidad de personas en la base de datos, y detalla la estrategia para contestar esta consulta con los índices. \n",
    "> SELECT Persona.nombre, Proyecto.nombre \n",
    ">\n",
    "> FROM Persona, Proyecto, Persona_Proyecto\n",
    ">\n",
    "> WHERE Persona.id = Persona_Proyecto.id_persona AND Proyecto.id = Persona_Proyecto.id_proyecto\n",
    "\n",
    "- (c) Ejecuta un script que conteste esta consulta, a partir de las instancias de clase Tabla que creaste, usando solamente el iterador y la funcion index_access provistas para esa tabla. Tu script debe usar adecuadamente los índices y tu estrategia sugerida en el punto (b). "
   ]
  },
  {
   "cell_type": "code",
   "execution_count": 34,
   "metadata": {},
   "outputs": [],
   "source": [
    "### Parte (a)\n",
    "\n"
   ]
  },
  {
   "cell_type": "code",
   "execution_count": null,
   "metadata": {},
   "outputs": [],
   "source": [
    "### Parte (b) - estrategia\n",
    "\n"
   ]
  },
  {
   "cell_type": "code",
   "execution_count": null,
   "metadata": {},
   "outputs": [],
   "source": [
    "### Parte (b) - código\n",
    "\n"
   ]
  },
  {
   "cell_type": "code",
   "execution_count": null,
   "metadata": {},
   "outputs": [],
   "source": [
    "### Parte (c)\n",
    "\n"
   ]
  },
  {
   "cell_type": "markdown",
   "metadata": {},
   "source": [
    "### EJERCICIO 2. \n",
    "Ahora quieres contestar de forma eficiente (es decir, en un tiempo acotado por la cantidad de personas en el área TI) la consulta \n",
    "\n",
    "> SELECT Persona.nombre, Proyecto.nombre \n",
    ">\n",
    "> FROM Persona, Proyecto, Persona_Proyecto\n",
    ">\n",
    "> WHERE Persona.id = Persona_Proyecto.id_persona AND Proyecto.id = Persona_Proyecto.id_proyecto\n",
    ">\n",
    "> AND Persona.area = 'TI' \n",
    "\n",
    "- (a) Explica por qué con la estructura de índices de la clase Tabla no te alcanza\n",
    "- (b) Escribe una función llamada \"create_non_keyed_index\" que reciba una posición *p*, y genere un diccionario donde la llave sean los elementos de esa posición, y el valor sea la lista de tuplas cuyo valor en la posicion *p* corresponda a la llave. \n",
    "- (c) Ejecuta un script que conteste esta consulta, a partir de las instancias de clase Tabla que creaste, usando solamente el iterador y la funcion index_access provistas para esa tabla. Tu script debe usar adecuadamente los índices y tu estrategia sugerida en los puntos anteriores. \n"
   ]
  },
  {
   "cell_type": "code",
   "execution_count": null,
   "metadata": {},
   "outputs": [],
   "source": [
    "### Parte (a)\n",
    "\n"
   ]
  },
  {
   "cell_type": "code",
   "execution_count": null,
   "metadata": {},
   "outputs": [],
   "source": [
    "### Parte (b): reescribe todo el código asociado a la clase Tabla, para que sea más fácil ejecutar.\n",
    "\n",
    "\n",
    "class Tabla:\n",
    "    def __init__(self, datos):\n",
    "        self.datos = datos\n",
    "        self.indexes = []\n",
    "\n",
    "    def __iter__(self):\n",
    "        self.current_iter = 0\n",
    "        return self\n",
    "\n",
    "    def __next__(self):\n",
    "        if self.current_iter < len(self.datos):\n",
    "            valor = self.datos[self.current_iter]\n",
    "            self.current_iter += 1\n",
    "            return valor\n",
    "        else:\n",
    "            raise StopIteration\n",
    "\n",
    "    def create_keyed_index(self, position):\n",
    "        index = {}\n",
    "        for tup in self.datos:\n",
    "            index[tup[position]] = tup\n",
    "        self.indexes.append(index)\n",
    "        return len(self.indexes) - 1\n",
    "\n",
    "    def create_non_keyed_index(self, position):\n",
    "        pass\n",
    "        #\n",
    "        # Escribe acá\n",
    "        #\n",
    "\n",
    "    def index_access(self, i, element):\n",
    "        return self.indexes[i][element]"
   ]
  },
  {
   "cell_type": "code",
   "execution_count": null,
   "metadata": {},
   "outputs": [],
   "source": [
    "### Parte (c)"
   ]
  },
  {
   "cell_type": "markdown",
   "metadata": {},
   "source": [
    "### EJERCICIO 3. \n",
    "Ahora quieres contestar de forma eficiente la consulta \n",
    "\n",
    "> SELECT Persona.nombre, Proyecto.nombre \n",
    ">\n",
    "> FROM Persona, Proyecto, Persona_Proyecto\n",
    ">\n",
    "> WHERE Persona.id = Persona_Proyecto.id_persona AND Proyecto.id = Persona_Proyecto.id_proyecto\n",
    ">\n",
    "> AND Proyecto.timestamp > 5 \n",
    "\n",
    "- (a) Explica qué índices adicionales necesitarías, y describe cual sería tu estrategia para contestarla eficientemente. No es necesario usar más código. \n"
   ]
  },
  {
   "cell_type": "code",
   "execution_count": null,
   "metadata": {},
   "outputs": [],
   "source": [
    "### Parte (a)"
   ]
  }
 ],
 "metadata": {
  "kernelspec": {
   "display_name": "Python 3 (ipykernel)",
   "language": "python",
   "name": "python3"
  },
  "language_info": {
   "codemirror_mode": {
    "name": "ipython",
    "version": 3
   },
   "file_extension": ".py",
   "mimetype": "text/x-python",
   "name": "python",
   "nbconvert_exporter": "python",
   "pygments_lexer": "ipython3",
   "version": "3.10.7"
  }
 },
 "nbformat": 4,
 "nbformat_minor": 2
}
